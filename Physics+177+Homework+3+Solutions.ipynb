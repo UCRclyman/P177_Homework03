{
 "cells": [
  {
   "cell_type": "markdown",
   "metadata": {},
   "source": [
    "# Problem 1: Lotka-Volterra equations\n",
    "\n",
    "## 1.A What do these parameters mean?\n",
    "\n",
    "α represents the reproduction rate of the prey species where x represents the actual number of prey. together αx represents the exponential growth of the prey species. β represents the rate of predation. When combined with xy to form βxy, this term is the decrease of prey through predation with predators. if β or y are high then x goes down. 𝛿 represents the growth of the predator species where y represents the actual number of predators. γ is the rate of natural loss for the predator species. this can be death or emmigration from the ecosystem or the equation.\n",
    "\n",
    "if delta or beta = 0 this means that the predator species is neither preying on the prey or growing as a population. They're a bunch of bread. as t approaches infinity the prey species will grow indefinitely. They'll grow and grow and grow until they become full of themselves, Real assholes of a species really."
   ]
  },
  {
   "cell_type": "markdown",
   "metadata": {},
   "source": [
    "## 1.B Code this up!\n",
    "\n",
    "I hate caterpie so we're gonna use croagunk as the predator and brock's sexual ineptitude as the prey.\n",
    "**Croagunk use poison jab**"
   ]
  },
  {
   "cell_type": "code",
   "execution_count": 7,
   "metadata": {
    "collapsed": false
   },
   "outputs": [],
   "source": [
    "alpha, beta, delta, gamma = .6, 1.3, 1.0, 1.0\n",
    "\n",
    "def f(x,y,t):\n",
    "    if t == 0:\n",
    "        WhatEvenAreBrocksEyes = (alpha * x) - (beta * x * y)\n",
    "        \n",
    "        return WhatEvenAreBrocksEyes\n",
    "    else:\n",
    "        return \"Croagunk uses poison jab, it's super effective!\"\n",
    "    \n",
    "def g(x,y,t):\n",
    "    if t== 0:\n",
    "        NurseJoyAintNothingButAGoldDigger = (delta * x * y) - (gamma * y)\n",
    "        \n",
    "        return NurseJoyAintNothingButAGoldDigger\n",
    "    else:\n",
    "        return \"Croagunk uses Dark Pulse, it's not very effective.\""
   ]
  },
  {
   "cell_type": "code",
   "execution_count": 3,
   "metadata": {
    "collapsed": false
   },
   "outputs": [
    {
     "name": "stdout",
     "output_type": "stream",
     "text": [
      "0.047\n"
     ]
    }
   ],
   "source": [
    "print( f(.1,.1,0))"
   ]
  },
  {
   "cell_type": "code",
   "execution_count": 4,
   "metadata": {
    "collapsed": false
   },
   "outputs": [
    {
     "name": "stdout",
     "output_type": "stream",
     "text": [
      "Croagunk uses poison jab, it's super effective!\n"
     ]
    }
   ],
   "source": [
    "print( f(.1,.1,3))"
   ]
  },
  {
   "cell_type": "code",
   "execution_count": 6,
   "metadata": {
    "collapsed": false
   },
   "outputs": [
    {
     "name": "stdout",
     "output_type": "stream",
     "text": [
      "-0.09\n"
     ]
    }
   ],
   "source": [
    "print( g(.1,.1,0))"
   ]
  },
  {
   "cell_type": "code",
   "execution_count": 8,
   "metadata": {
    "collapsed": false
   },
   "outputs": [
    {
     "name": "stdout",
     "output_type": "stream",
     "text": [
      "Croagunk uses Dark Pulse, it's not very effective.\n"
     ]
    }
   ],
   "source": [
    "print( g(.1,.1,3))"
   ]
  },
  {
   "cell_type": "markdown",
   "metadata": {},
   "source": [
    "## 1.C Time evolution"
   ]
  },
  {
   "cell_type": "code",
   "execution_count": 17,
   "metadata": {
    "collapsed": false
   },
   "outputs": [
    {
     "data": {
      "image/png": "[encoded data removed]",
      "text/plain": [
       "<matplotlib.figure.Figure at 0x1893ac03198>"
      ]
     },
     "metadata": {},
     "output_type": "display_data"
    }
   ],
   "source": [
    "import numpy as np\n",
    "\n",
    "alpha, beta, delta, gamma = .6, 1.3, 1.0, 1.0\n",
    "\n",
    "x0 = 2     # intial Brock Libido\n",
    "y0 = 2     # initial Croagunk poison Jab's to his nether regions\n",
    "dt = 0.05  # time step\n",
    "N = 100    # number of steps\n",
    "\n",
    "time = np.arange(N) \n",
    "\n",
    "xlist = [] * 365\n",
    "ylist = [] * 365\n",
    "\n",
    "x = x0\n",
    "y = y0\n",
    "\n",
    "for t in time:\n",
    "    xlist.append(x)\n",
    "    x += (alpha * x - beta * x * y) * dt\n",
    "    ylist.append(y)\n",
    "    y += (delta * x * y - gamma * y) * dt\n",
    "\n",
    "tt = np.array(time)\n",
    "xx = np.array(xlist)\n",
    "yy = np.array(ylist)\n",
    "\n",
    "import matplotlib.pyplot as plt\n",
    "\n",
    "\n",
    "plt.plot(tt,xx,label='Brocks Dong')\n",
    "plt.plot(tt,yy,label='Croagunk brofists')\n",
    "plt.xlabel('time')\n",
    "plt.ylabel('cringe')\n",
    "plt.legend()\n",
    "plt.show()"
   ]
  },
  {
   "cell_type": "markdown",
   "metadata": {},
   "source": [
    "## 1.D Discussion"
   ]
  },
  {
   "cell_type": "markdown",
   "metadata": {},
   "source": [
    "As you can see, Brock began as a horny bastard when he met nurse Joy and officer Jenny. But as soon as croagunk came around brofisting him, his libido began to wane. Unfortunately, due to Pavlov's dogs, Brock is now afrad to hit on women and flood my eyes with cringe; so croagunk no longer has to poison jab him. HOWEVER, and strap in boys this gets good, at t = around 70, Brock meets Lucy and well the birds and the bees. Croagunk hasn't jabbed him in a while and forgets to get him. This leads to the inevitable rise in Brock's Dong. I can't believe I wrote that."
   ]
  },
  {
   "cell_type": "markdown",
   "metadata": {},
   "source": [
    "## 1.E What happens in the future?"
   ]
  },
  {
   "cell_type": "code",
   "execution_count": 18,
   "metadata": {
    "collapsed": false
   },
   "outputs": [
    {
     "data": {
      "image/png": "[encoded data removed]",
      "text/plain": [
       "<matplotlib.figure.Figure at 0x1893acaa080>"
      ]
     },
     "metadata": {},
     "output_type": "display_data"
    }
   ],
   "source": [
    "import numpy as np\n",
    "\n",
    "x0 = 2     # intial number of times wobbuffet is mistreated\n",
    "y0 = 2     # initial number of times wobbuffet's sadness breaks my heart\n",
    "dt = 0.05  # time step\n",
    "N = 500    # number of steps\n",
    "\n",
    "time = np.arange(N) \n",
    "\n",
    "xlist = [] * 365\n",
    "ylist = [] * 365\n",
    "\n",
    "x = x0\n",
    "y = y0\n",
    "\n",
    "for t in time:\n",
    "    xlist.append(x)\n",
    "    x += (alpha * x - beta * x * y) * dt\n",
    "    ylist.append(y)\n",
    "    y += (delta * x * y - gamma * y) * dt\n",
    "\n",
    "tt = np.array(time)\n",
    "xx = np.array(xlist)\n",
    "yy = np.array(ylist)\n",
    "\n",
    "import matplotlib.pyplot as plt\n",
    "\n",
    "\n",
    "plt.plot(tt,xx,label='Insults to Wobbuffet')\n",
    "plt.plot(tt,yy,label='Wobbuffet Dopeyness')\n",
    "plt.xlabel('time')\n",
    "plt.ylabel('cringe')\n",
    "plt.legend()\n",
    "plt.show()"
   ]
  },
  {
   "cell_type": "code",
   "execution_count": 19,
   "metadata": {
    "collapsed": false
   },
   "outputs": [
    {
     "data": {
      "image/png": "[encoded data removed]",
      "text/plain": [
       "<matplotlib.figure.Figure at 0x1893adca630>"
      ]
     },
     "metadata": {},
     "output_type": "display_data"
    }
   ],
   "source": [
    "import numpy as np\n",
    "\n",
    "alpha, beta, delta, gamma = 4, 2, 3.0, 3.0\n",
    "\n",
    "x0 = 2     # intial Pokemon movie titles\n",
    "y0 = 2     # initial enthusiam for Pokemon anime\n",
    "dt = 0.05  # time step\n",
    "N = 100    # number of steps\n",
    "\n",
    "time = np.arange(N) \n",
    "\n",
    "xlist = [] * 365\n",
    "ylist = [] * 365\n",
    "\n",
    "x = x0\n",
    "y = y0\n",
    "\n",
    "for t in time:\n",
    "    xlist.append(x)\n",
    "    x += (alpha * x - beta * x * y) * dt\n",
    "    ylist.append(y)\n",
    "    y += (delta * x * y - gamma * y) * dt\n",
    "\n",
    "tt = np.array(time)\n",
    "xx = np.array(xlist)\n",
    "yy = np.array(ylist)\n",
    "\n",
    "import matplotlib.pyplot as plt\n",
    "\n",
    "\n",
    "plt.plot(tt,xx,label='Pokemon movie releases')\n",
    "plt.plot(tt,yy,label='Love for Pokemon')\n",
    "plt.xlabel('time')\n",
    "plt.ylabel('cringe')\n",
    "plt.legend()\n",
    "plt.show()"
   ]
  },
  {
   "cell_type": "code",
   "execution_count": 38,
   "metadata": {
    "collapsed": false
   },
   "outputs": [
    {
     "data": {
      "image/png": "[encoded data removed]",
      "text/plain": [
       "<matplotlib.figure.Figure at 0x1893ac13f98>"
      ]
     },
     "metadata": {},
     "output_type": "display_data"
    }
   ],
   "source": [
    "import numpy as np\n",
    "\n",
    "alpha, beta, delta, gamma = .6, 1.3, 1.0, 1.0\n",
    "\n",
    "x0 = 2     # intial pancakes\n",
    "y0 = 2     # initial waffles\n",
    "dt = 0.75  # time step\n",
    "N = 100    # number of steps\n",
    "\n",
    "time = np.arange(N) \n",
    "\n",
    "xlist = [] * 365\n",
    "ylist = [] * 365\n",
    "\n",
    "x = x0\n",
    "y = y0\n",
    "\n",
    "for t in time:\n",
    "    xlist.append(x)\n",
    "    x += (alpha * x - beta * x * y) * dt\n",
    "    ylist.append(y)\n",
    "    y += (delta * x * y - gamma * y) * dt\n",
    "\n",
    "tt = np.array(time)\n",
    "xx = np.array(xlist)\n",
    "yy = np.array(ylist)\n",
    "\n",
    "import matplotlib.pyplot as plt\n",
    "\n",
    "\n",
    "plt.plot(tt,xx,label='Pancakes')\n",
    "plt.plot(tt,yy,label='Waffles')\n",
    "plt.xlabel('time')\n",
    "plt.ylabel('deliciousness')\n",
    "plt.legend()\n",
    "plt.show()"
   ]
  },
  {
   "cell_type": "markdown",
   "metadata": {},
   "source": [
    "I honestly can't expalin why this happens. We're seeing stagnation until we reach 35 which is the end of the cycle number. What's interesting is that the waffle/pancake lines dip into the negatives as t approaches 35. Is that an issue with the graphing code used? I honestly couldn't say."
   ]
  },
  {
   "cell_type": "markdown",
   "metadata": {},
   "source": [
    "# Problem 2: Plotting Practice\n",
    "\n",
    "## 2.A Plotting on the Wobbuffet plane"
   ]
  },
  {
   "cell_type": "code",
   "execution_count": 31,
   "metadata": {
    "collapsed": false
   },
   "outputs": [
    {
     "ename": "AttributeError",
     "evalue": "'numpy.ndarray' object has no attribute '_hold'",
     "output_type": "error",
     "traceback": [
      "\u001b[0;31m---------------------------------------------------------------------------\u001b[0m",
      "\u001b[0;31mAttributeError\u001b[0m                            Traceback (most recent call last)",
      "\u001b[0;32m<ipython-input-31-53fa90531a21>\u001b[0m in \u001b[0;36m<module>\u001b[0;34m()\u001b[0m\n\u001b[1;32m     29\u001b[0m \u001b[1;33m\u001b[0m\u001b[0m\n\u001b[1;32m     30\u001b[0m \u001b[1;33m\u001b[0m\u001b[0m\n\u001b[0;32m---> 31\u001b[0;31m \u001b[0mplt\u001b[0m\u001b[1;33m.\u001b[0m\u001b[0mAxes\u001b[0m\u001b[1;33m.\u001b[0m\u001b[0mplot\u001b[0m\u001b[1;33m(\u001b[0m\u001b[0mtt\u001b[0m\u001b[1;33m,\u001b[0m\u001b[0mxx\u001b[0m\u001b[1;33m,\u001b[0m\u001b[0mlabel\u001b[0m\u001b[1;33m=\u001b[0m\u001b[1;34m'Insults to Wobbuffet'\u001b[0m\u001b[1;33m)\u001b[0m\u001b[1;33m\u001b[0m\u001b[0m\n\u001b[0m\u001b[1;32m     32\u001b[0m \u001b[0mplt\u001b[0m\u001b[1;33m.\u001b[0m\u001b[0mAxes\u001b[0m\u001b[1;33m.\u001b[0m\u001b[0mplot\u001b[0m\u001b[1;33m(\u001b[0m\u001b[0mtt\u001b[0m\u001b[1;33m,\u001b[0m\u001b[0myy\u001b[0m\u001b[1;33m,\u001b[0m\u001b[0mlabel\u001b[0m\u001b[1;33m=\u001b[0m\u001b[1;34m'Wobbuffet Dopeyness'\u001b[0m\u001b[1;33m)\u001b[0m\u001b[1;33m\u001b[0m\u001b[0m\n\u001b[1;32m     33\u001b[0m \u001b[0mplt\u001b[0m\u001b[1;33m.\u001b[0m\u001b[0mxlabel\u001b[0m\u001b[1;33m(\u001b[0m\u001b[1;34m'time'\u001b[0m\u001b[1;33m)\u001b[0m\u001b[1;33m\u001b[0m\u001b[0m\n",
      "\u001b[0;32mZ:\\Python\\Anaconda3\\lib\\site-packages\\matplotlib\\__init__.py\u001b[0m in \u001b[0;36minner\u001b[0;34m(ax, *args, **kwargs)\u001b[0m\n\u001b[1;32m   1889\u001b[0m                     warnings.warn(msg % (label_namer, func.__name__),\n\u001b[1;32m   1890\u001b[0m                                   RuntimeWarning, stacklevel=2)\n\u001b[0;32m-> 1891\u001b[0;31m             \u001b[1;32mreturn\u001b[0m \u001b[0mfunc\u001b[0m\u001b[1;33m(\u001b[0m\u001b[0max\u001b[0m\u001b[1;33m,\u001b[0m \u001b[1;33m*\u001b[0m\u001b[0margs\u001b[0m\u001b[1;33m,\u001b[0m \u001b[1;33m**\u001b[0m\u001b[0mkwargs\u001b[0m\u001b[1;33m)\u001b[0m\u001b[1;33m\u001b[0m\u001b[0m\n\u001b[0m\u001b[1;32m   1892\u001b[0m         \u001b[0mpre_doc\u001b[0m \u001b[1;33m=\u001b[0m \u001b[0minner\u001b[0m\u001b[1;33m.\u001b[0m\u001b[0m__doc__\u001b[0m\u001b[1;33m\u001b[0m\u001b[0m\n\u001b[1;32m   1893\u001b[0m         \u001b[1;32mif\u001b[0m \u001b[0mpre_doc\u001b[0m \u001b[1;32mis\u001b[0m \u001b[1;32mNone\u001b[0m\u001b[1;33m:\u001b[0m\u001b[1;33m\u001b[0m\u001b[0m\n",
      "\u001b[0;32mZ:\\Python\\Anaconda3\\lib\\site-packages\\matplotlib\\axes\\_axes.py\u001b[0m in \u001b[0;36mplot\u001b[0;34m(self, *args, **kwargs)\u001b[0m\n\u001b[1;32m   1398\u001b[0m         \u001b[0mscaley\u001b[0m \u001b[1;33m=\u001b[0m \u001b[0mkwargs\u001b[0m\u001b[1;33m.\u001b[0m\u001b[0mpop\u001b[0m\u001b[1;33m(\u001b[0m\u001b[1;34m'scaley'\u001b[0m\u001b[1;33m,\u001b[0m \u001b[1;32mTrue\u001b[0m\u001b[1;33m)\u001b[0m\u001b[1;33m\u001b[0m\u001b[0m\n\u001b[1;32m   1399\u001b[0m \u001b[1;33m\u001b[0m\u001b[0m\n\u001b[0;32m-> 1400\u001b[0;31m         \u001b[1;32mif\u001b[0m \u001b[1;32mnot\u001b[0m \u001b[0mself\u001b[0m\u001b[1;33m.\u001b[0m\u001b[0m_hold\u001b[0m\u001b[1;33m:\u001b[0m\u001b[1;33m\u001b[0m\u001b[0m\n\u001b[0m\u001b[1;32m   1401\u001b[0m             \u001b[0mself\u001b[0m\u001b[1;33m.\u001b[0m\u001b[0mcla\u001b[0m\u001b[1;33m(\u001b[0m\u001b[1;33m)\u001b[0m\u001b[1;33m\u001b[0m\u001b[0m\n\u001b[1;32m   1402\u001b[0m         \u001b[0mlines\u001b[0m \u001b[1;33m=\u001b[0m \u001b[1;33m[\u001b[0m\u001b[1;33m]\u001b[0m\u001b[1;33m\u001b[0m\u001b[0m\n",
      "\u001b[0;31mAttributeError\u001b[0m: 'numpy.ndarray' object has no attribute '_hold'"
     ]
    }
   ],
   "source": [
    "import numpy as np\n",
    "\n",
    "alpha, beta, delta, gamma = .6, 1.3, 1.0, 1.0\n",
    "\n",
    "x0 = 2     # intial number of times wobbuffet is mistreated\n",
    "y0 = 2     # initial number of times wobbuffet's sadness breaks my heart\n",
    "dt = 0.05  # time step\n",
    "N = 500    # number of steps\n",
    "\n",
    "time = np.arange(N) \n",
    "\n",
    "xlist = [] * 365\n",
    "ylist = [] * 365\n",
    "\n",
    "x = x0\n",
    "y = y0\n",
    "\n",
    "for t in time:\n",
    "    xlist.append(x)\n",
    "    x += (alpha * x - beta * x * y) * dt\n",
    "    ylist.append(y)\n",
    "    y += (delta * x * y - gamma * y) * dt\n",
    "\n",
    "tt = np.array(time)\n",
    "xx = np.array(xlist)\n",
    "yy = np.array(ylist)\n",
    "\n",
    "import matplotlib.pyplot as plt\n",
    "\n",
    "\n",
    "plt.Axes.plot(tt,xx,label='Insults to Wobbuffet')\n",
    "plt.Axes.plot(tt,yy,label='Wobbuffet Dopeyness')\n",
    "plt.xlabel('time')\n",
    "plt.ylabel('cringe')\n",
    "plt.legend()\n",
    "plt.show()"
   ]
  },
  {
   "cell_type": "markdown",
   "metadata": {},
   "source": [
    "## 2.B Plotting the velocity in population space"
   ]
  },
  {
   "cell_type": "code",
   "execution_count": null,
   "metadata": {
    "collapsed": true
   },
   "outputs": [],
   "source": [
    "ff = np.vectorize(f)\n",
    "gg = np.vectorize(g)\n",
    "\n",
    "side = np.linspace(0,4,10)\n",
    "XX,YY = np.meshgrid(side,side/2)\n",
    "UU = ff(XX,YY,0)\n",
    "VV = gg(XX,YY,0)\n",
    "\n",
    "plt.quiver(\n",
    "    # YOUR CODE HERE\n",
    "    scale=20)\n",
    "plt.plot(\n",
    "    # YOUR CODE HERE; overlay the plot from Problem 2.A\n",
    ")\n",
    "plt.xlabel('Caterpie')\n",
    "plt.ylabel('Pidgeotto')\n",
    "plt.show()"
   ]
  },
  {
   "cell_type": "markdown",
   "metadata": {},
   "source": [
    "# Problem 3: External effects"
   ]
  },
  {
   "cell_type": "code",
   "execution_count": 33,
   "metadata": {
    "collapsed": false
   },
   "outputs": [],
   "source": [
    "from math import sin as sin\n",
    "from math import cos as cos\n",
    "\n",
    "alpha, beta, delta, gamma = .6, 1.3, 1.0, 1.0\n",
    "\n",
    "def f_new(x,y,t):\n",
    "    \n",
    "    WhyAreThereShinyPokemon = (alpha*x - beta*(1 - 0.7*sin(t))*x*y + x*sin(t/4))\n",
    "    \n",
    "    return WhyAreThereShinyPokemon\n",
    "\n",
    "def g_new(x,y,t):\n",
    "    \n",
    "    WhyarentThereShinyPokemon = delta*(1 - 0.7*sin(t))*x*y - gamma*y + y*sin(t/4)\n",
    "    \n",
    "    return WhyarentThereShinyPokemon"
   ]
  },
  {
   "cell_type": "code",
   "execution_count": 37,
   "metadata": {
    "collapsed": false
   },
   "outputs": [
    {
     "data": {
      "image/png": "[encoded data removed]",
      "text/plain": [
       "<matplotlib.figure.Figure at 0x1893ac137f0>"
      ]
     },
     "metadata": {},
     "output_type": "display_data"
    }
   ],
   "source": [
    "import numpy as np\n",
    "\n",
    "\n",
    "x0 = 2     # intial number of times I ask myself why Shinies exist\n",
    "y0 = 2     # initial number of times people tell me to go away\n",
    "dt = 0.05  # time step\n",
    "N = 500    # number of steps\n",
    "\n",
    "time = np.arange(N) \n",
    "\n",
    "xlist = [] * 365\n",
    "ylist = [] * 365\n",
    "\n",
    "x = x0\n",
    "y = y0\n",
    "\n",
    "for t in time:\n",
    "    xlist.append(x)\n",
    "    x += (alpha*x - beta*(1 - 0.7*sin(t))*x*y + x*sin(t/4)) * dt\n",
    "    ylist.append(y)\n",
    "    y += delta*(1 - 0.7*sin(t))*x*y - gamma*y + y*sin(t/4) * dt\n",
    "\n",
    "tt = np.array(time)\n",
    "xx = np.array(xlist)\n",
    "yy = np.array(ylist)\n",
    "\n",
    "import matplotlib.pyplot as plt\n",
    "\n",
    "\n",
    "plt.plot(tt,xx,label='Are Shinies useless')\n",
    "plt.plot(tt,yy,label='Verbal assaults')\n",
    "plt.xlabel('time')\n",
    "plt.ylabel('cringe')\n",
    "plt.legend()\n",
    "plt.show()"
   ]
  },
  {
   "cell_type": "markdown",
   "metadata": {},
   "source": [
    "# Problem 4: Copy-Pasta 1.C one more time"
   ]
  },
  {
   "cell_type": "code",
   "execution_count": 46,
   "metadata": {
    "collapsed": false
   },
   "outputs": [
    {
     "ename": "TypeError",
     "evalue": "o() missing 1 required positional argument: 't'",
     "output_type": "error",
     "traceback": [
      "\u001b[0;31m---------------------------------------------------------------------------\u001b[0m",
      "\u001b[0;31mTypeError\u001b[0m                                 Traceback (most recent call last)",
      "\u001b[0;32m<ipython-input-46-e9f076725d1b>\u001b[0m in \u001b[0;36m<module>\u001b[0;34m()\u001b[0m\n\u001b[1;32m     47\u001b[0m \u001b[1;32mfor\u001b[0m \u001b[0mt\u001b[0m \u001b[1;32min\u001b[0m \u001b[0mtime\u001b[0m\u001b[1;33m:\u001b[0m\u001b[1;33m\u001b[0m\u001b[0m\n\u001b[1;32m     48\u001b[0m     \u001b[0mxlist\u001b[0m\u001b[1;33m.\u001b[0m\u001b[0mappend\u001b[0m\u001b[1;33m(\u001b[0m\u001b[0mx\u001b[0m\u001b[1;33m)\u001b[0m\u001b[1;33m\u001b[0m\u001b[0m\n\u001b[0;32m---> 49\u001b[0;31m     \u001b[0mx\u001b[0m \u001b[1;33m+=\u001b[0m \u001b[0mq\u001b[0m\u001b[1;33m(\u001b[0m\u001b[0mx\u001b[0m\u001b[1;33m,\u001b[0m\u001b[0my\u001b[0m\u001b[1;33m,\u001b[0m\u001b[0mt\u001b[0m\u001b[1;33m)\u001b[0m \u001b[1;33m*\u001b[0m \u001b[0mdt\u001b[0m\u001b[1;33m\u001b[0m\u001b[0m\n\u001b[0m\u001b[1;32m     50\u001b[0m     \u001b[0mylist\u001b[0m\u001b[1;33m.\u001b[0m\u001b[0mappend\u001b[0m\u001b[1;33m(\u001b[0m\u001b[0my\u001b[0m\u001b[1;33m)\u001b[0m\u001b[1;33m\u001b[0m\u001b[0m\n\u001b[1;32m     51\u001b[0m     \u001b[0my\u001b[0m \u001b[1;33m+=\u001b[0m \u001b[0mr\u001b[0m\u001b[1;33m(\u001b[0m\u001b[0mx\u001b[0m\u001b[1;33m,\u001b[0m\u001b[0my\u001b[0m\u001b[1;33m,\u001b[0m\u001b[0mt\u001b[0m\u001b[1;33m)\u001b[0m \u001b[1;33m*\u001b[0m \u001b[0mdt\u001b[0m\u001b[1;33m\u001b[0m\u001b[0m\n",
      "\u001b[0;32m<ipython-input-46-e9f076725d1b>\u001b[0m in \u001b[0;36mq\u001b[0;34m(x, y, t)\u001b[0m\n\u001b[1;32m     26\u001b[0m \u001b[1;32mdef\u001b[0m \u001b[0mq\u001b[0m\u001b[1;33m(\u001b[0m\u001b[0mx\u001b[0m\u001b[1;33m,\u001b[0m\u001b[0my\u001b[0m\u001b[1;33m,\u001b[0m\u001b[0mt\u001b[0m\u001b[1;33m)\u001b[0m\u001b[1;33m:\u001b[0m\u001b[1;33m\u001b[0m\u001b[0m\n\u001b[1;32m     27\u001b[0m     \u001b[0mk1\u001b[0m \u001b[1;33m=\u001b[0m \u001b[0mN\u001b[0m\u001b[1;33m*\u001b[0m\u001b[0mo\u001b[0m\u001b[1;33m(\u001b[0m\u001b[0mx\u001b[0m\u001b[1;33m,\u001b[0m\u001b[0my\u001b[0m\u001b[1;33m,\u001b[0m\u001b[0mt\u001b[0m\u001b[1;33m)\u001b[0m\u001b[1;33m\u001b[0m\u001b[0m\n\u001b[0;32m---> 28\u001b[0;31m     \u001b[0mk2\u001b[0m \u001b[1;33m=\u001b[0m \u001b[0mN\u001b[0m\u001b[1;33m*\u001b[0m\u001b[0mo\u001b[0m\u001b[1;33m(\u001b[0m\u001b[0mx\u001b[0m \u001b[1;33m+\u001b[0m \u001b[0mN\u001b[0m\u001b[1;33m/\u001b[0m\u001b[1;36m2\u001b[0m\u001b[1;33m,\u001b[0m \u001b[0my\u001b[0m \u001b[1;33m+\u001b[0m \u001b[0mN\u001b[0m\u001b[1;33m/\u001b[0m\u001b[1;36m2\u001b[0m\u001b[1;33m)\u001b[0m\u001b[1;33m\u001b[0m\u001b[0m\n\u001b[0m\u001b[1;32m     29\u001b[0m     \u001b[0mk3\u001b[0m \u001b[1;33m=\u001b[0m \u001b[0mN\u001b[0m\u001b[1;33m*\u001b[0m\u001b[0mo\u001b[0m\u001b[1;33m(\u001b[0m\u001b[0mx\u001b[0m \u001b[1;33m+\u001b[0m \u001b[0mN\u001b[0m\u001b[1;33m/\u001b[0m\u001b[1;36m2\u001b[0m\u001b[1;33m,\u001b[0m \u001b[0my\u001b[0m \u001b[1;33m+\u001b[0m \u001b[0mN\u001b[0m\u001b[1;33m/\u001b[0m\u001b[1;36m2\u001b[0m\u001b[1;33m)\u001b[0m\u001b[1;33m\u001b[0m\u001b[0m\n\u001b[1;32m     30\u001b[0m     \u001b[0mk4\u001b[0m \u001b[1;33m=\u001b[0m \u001b[0mN\u001b[0m\u001b[1;33m*\u001b[0m\u001b[0mo\u001b[0m\u001b[1;33m(\u001b[0m\u001b[0mx\u001b[0m \u001b[1;33m+\u001b[0m \u001b[0mN\u001b[0m\u001b[1;33m,\u001b[0m \u001b[0my\u001b[0m \u001b[1;33m+\u001b[0m \u001b[0mN\u001b[0m\u001b[1;33m)\u001b[0m\u001b[1;33m\u001b[0m\u001b[0m\n",
      "\u001b[0;31mTypeError\u001b[0m: o() missing 1 required positional argument: 't'"
     ]
    }
   ],
   "source": [
    "import numpy as np\n",
    "\n",
    "alpha, beta, delta, gamma = .6, 1.3, 1.0, 1.0\n",
    "\n",
    "x0 = 2     # intial Brock Libido\n",
    "y0 = 2     # initial Croagunk poison Jab's to his nether regions\n",
    "dt = 0.05  # time step\n",
    "N = 100    # number of steps\n",
    "\n",
    "time = np.arange(N) \n",
    "\n",
    "xlist = [] * 365\n",
    "ylist = [] * 365\n",
    "\n",
    "\n",
    "def o(x,y,t):\n",
    "    o = (alpha * x - beta * x * y)\n",
    "    \n",
    "    return o\n",
    "\n",
    "def p(x,y,t):\n",
    "    p = (delta * x * y - gamma * y)\n",
    "    \n",
    "    return p\n",
    "\n",
    "def q(x,y,t):\n",
    "    k1 = N*o(x,y,t)\n",
    "    k2 = N*o(x + N/2, y + N/2)\n",
    "    k3 = N*o(x + N/2, y + N/2)\n",
    "    k4 = N*o(x + N, y + N)\n",
    "    q = x + (1/6)*(k1 + 2*k2 + 2*k3 + k4)\n",
    "    \n",
    "    return q\n",
    "\n",
    "def r(x,y,t):\n",
    "    k1 = N*p(x,y,t)\n",
    "    k2 = N*p(x + N/2, y + N/2)\n",
    "    k3 = N*p(x + N/2, y + N/2)\n",
    "    k4 = N*p(x + N, y + N)\n",
    "    q = y + (1/6)*(k1 + 2*k2 + 2*k3 + k4)\n",
    "    \n",
    "    return r\n",
    "\n",
    "x = x0\n",
    "y = y0\n",
    "        \n",
    "for t in time:\n",
    "    xlist.append(x)\n",
    "    x += q(x,y,t) * dt\n",
    "    ylist.append(y)\n",
    "    y += r(x,y,t) * dt\n",
    "\n",
    "tt = np.array(time)\n",
    "xx = np.array(xlist)\n",
    "yy = np.array(ylist)\n",
    "\n",
    "import matplotlib.pyplot as plt\n",
    "\n",
    "\n",
    "plt.plot(tt,xx,label='Brocks Dong')\n",
    "plt.plot(tt,yy,label='Croagunk brofists')\n",
    "plt.xlabel('time')\n",
    "plt.ylabel('cringe')\n",
    "plt.legend()\n",
    "plt.show()"
   ]
  },
  {
   "cell_type": "markdown",
   "metadata": {},
   "source": [
    "I'm not doing this right, I understand the concept of Runge Kutta but I can't seem to synthesize a unified algortihm for the formula. How is t integrated into the k section(p and r functions)? That's the only thing I'm missing, if I can figure that out I'll be able to complete the algorithm."
   ]
  },
  {
   "cell_type": "code",
   "execution_count": null,
   "metadata": {
    "collapsed": true
   },
   "outputs": [],
   "source": []
  }
 ],
 "metadata": {
  "kernelspec": {
   "display_name": "Python 3",
   "language": "python",
   "name": "python3"
  },
  "language_info": {
   "codemirror_mode": {
    "name": "ipython",
    "version": 3
   },
   "file_extension": ".py",
   "mimetype": "text/x-python",
   "name": "python",
   "nbconvert_exporter": "python",
   "pygments_lexer": "ipython3",
   "version": "3.6.0"
  }
 },
 "nbformat": 4,
 "nbformat_minor": 2
}
